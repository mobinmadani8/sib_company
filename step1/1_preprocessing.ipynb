{
 "cells": [
  {
   "attachments": {},
   "cell_type": "markdown",
   "id": "7f592a97",
   "metadata": {
    "id": "dbd55073"
   },
   "source": [
    "<h1 align=center style=\"line-height:200%;font-family:vazir;color:#0099cc\">\n",
    "<font face=\"vazir\" color=\"#0099cc\">\n",
    "Step1 : preprocessing\n",
    "</font>\n",
    "</h1>"
   ]
  },
  {
   "attachments": {},
   "cell_type": "markdown",
   "id": "40e88e62",
   "metadata": {},
   "source": [
    "in first step we want to do preprocessing and answer some question"
   ]
  },
  {
   "cell_type": "code",
   "execution_count": 1,
   "id": "d171f8a8",
   "metadata": {
    "id": "4a1c31c4"
   },
   "outputs": [],
   "source": [
    "# import libraries\n",
    "import pandas as pd"
   ]
  },
  {
   "cell_type": "code",
   "execution_count": 2,
   "id": "dcb58d50",
   "metadata": {
    "id": "b0ad0cab",
    "outputId": "256eb757-521a-4029-a774-826f840578fc"
   },
   "outputs": [],
   "source": [
    "# read the original dataset\n",
    "df = pd.read_excel(\"sales.xlsx\")"
   ]
  },
  {
   "cell_type": "code",
   "execution_count": 3,
   "id": "05b89cc3",
   "metadata": {},
   "outputs": [
    {
     "data": {
      "text/html": [
       "<div>\n",
       "<style scoped>\n",
       "    .dataframe tbody tr th:only-of-type {\n",
       "        vertical-align: middle;\n",
       "    }\n",
       "\n",
       "    .dataframe tbody tr th {\n",
       "        vertical-align: top;\n",
       "    }\n",
       "\n",
       "    .dataframe thead th {\n",
       "        text-align: right;\n",
       "    }\n",
       "</style>\n",
       "<table border=\"1\" class=\"dataframe\">\n",
       "  <thead>\n",
       "    <tr style=\"text-align: right;\">\n",
       "      <th></th>\n",
       "      <th>InvoiceNumber</th>\n",
       "      <th>ProductCode</th>\n",
       "      <th>ProductName</th>\n",
       "      <th>Quantity</th>\n",
       "      <th>InvoiceDate</th>\n",
       "      <th>UnitPrice</th>\n",
       "      <th>CustomerId</th>\n",
       "      <th>Country</th>\n",
       "    </tr>\n",
       "  </thead>\n",
       "  <tbody>\n",
       "    <tr>\n",
       "      <th>0</th>\n",
       "      <td>489434</td>\n",
       "      <td>85048</td>\n",
       "      <td>15CM CHRISTMAS GLASS BALL 20 LIGHTS</td>\n",
       "      <td>12</td>\n",
       "      <td>2009-12-01 07:45:00</td>\n",
       "      <td>6.95</td>\n",
       "      <td>13085.0</td>\n",
       "      <td>United Kingdom</td>\n",
       "    </tr>\n",
       "    <tr>\n",
       "      <th>1</th>\n",
       "      <td>489434</td>\n",
       "      <td>79323P</td>\n",
       "      <td>PINK CHERRY LIGHTS</td>\n",
       "      <td>12</td>\n",
       "      <td>2009-12-01 07:45:00</td>\n",
       "      <td>6.75</td>\n",
       "      <td>13085.0</td>\n",
       "      <td>United Kingdom</td>\n",
       "    </tr>\n",
       "    <tr>\n",
       "      <th>2</th>\n",
       "      <td>489434</td>\n",
       "      <td>79323W</td>\n",
       "      <td>WHITE CHERRY LIGHTS</td>\n",
       "      <td>12</td>\n",
       "      <td>2009-12-01 07:45:00</td>\n",
       "      <td>6.75</td>\n",
       "      <td>13085.0</td>\n",
       "      <td>United Kingdom</td>\n",
       "    </tr>\n",
       "    <tr>\n",
       "      <th>3</th>\n",
       "      <td>489434</td>\n",
       "      <td>22041</td>\n",
       "      <td>RECORD FRAME 7\" SINGLE SIZE</td>\n",
       "      <td>48</td>\n",
       "      <td>2009-12-01 07:45:00</td>\n",
       "      <td>2.10</td>\n",
       "      <td>13085.0</td>\n",
       "      <td>United Kingdom</td>\n",
       "    </tr>\n",
       "    <tr>\n",
       "      <th>4</th>\n",
       "      <td>489434</td>\n",
       "      <td>21232</td>\n",
       "      <td>STRAWBERRY CERAMIC TRINKET BOX</td>\n",
       "      <td>24</td>\n",
       "      <td>2009-12-01 07:45:00</td>\n",
       "      <td>1.25</td>\n",
       "      <td>13085.0</td>\n",
       "      <td>United Kingdom</td>\n",
       "    </tr>\n",
       "    <tr>\n",
       "      <th>...</th>\n",
       "      <td>...</td>\n",
       "      <td>...</td>\n",
       "      <td>...</td>\n",
       "      <td>...</td>\n",
       "      <td>...</td>\n",
       "      <td>...</td>\n",
       "      <td>...</td>\n",
       "      <td>...</td>\n",
       "    </tr>\n",
       "    <tr>\n",
       "      <th>525456</th>\n",
       "      <td>538171</td>\n",
       "      <td>22271</td>\n",
       "      <td>FELTCRAFT DOLL ROSIE</td>\n",
       "      <td>2</td>\n",
       "      <td>2010-12-09 20:01:00</td>\n",
       "      <td>2.95</td>\n",
       "      <td>17530.0</td>\n",
       "      <td>United Kingdom</td>\n",
       "    </tr>\n",
       "    <tr>\n",
       "      <th>525457</th>\n",
       "      <td>538171</td>\n",
       "      <td>22750</td>\n",
       "      <td>FELTCRAFT PRINCESS LOLA DOLL</td>\n",
       "      <td>1</td>\n",
       "      <td>2010-12-09 20:01:00</td>\n",
       "      <td>3.75</td>\n",
       "      <td>17530.0</td>\n",
       "      <td>United Kingdom</td>\n",
       "    </tr>\n",
       "    <tr>\n",
       "      <th>525458</th>\n",
       "      <td>538171</td>\n",
       "      <td>22751</td>\n",
       "      <td>FELTCRAFT PRINCESS OLIVIA DOLL</td>\n",
       "      <td>1</td>\n",
       "      <td>2010-12-09 20:01:00</td>\n",
       "      <td>3.75</td>\n",
       "      <td>17530.0</td>\n",
       "      <td>United Kingdom</td>\n",
       "    </tr>\n",
       "    <tr>\n",
       "      <th>525459</th>\n",
       "      <td>538171</td>\n",
       "      <td>20970</td>\n",
       "      <td>PINK FLORAL FELTCRAFT SHOULDER BAG</td>\n",
       "      <td>2</td>\n",
       "      <td>2010-12-09 20:01:00</td>\n",
       "      <td>3.75</td>\n",
       "      <td>17530.0</td>\n",
       "      <td>United Kingdom</td>\n",
       "    </tr>\n",
       "    <tr>\n",
       "      <th>525460</th>\n",
       "      <td>538171</td>\n",
       "      <td>21931</td>\n",
       "      <td>JUMBO STORAGE BAG SUKI</td>\n",
       "      <td>2</td>\n",
       "      <td>2010-12-09 20:01:00</td>\n",
       "      <td>1.95</td>\n",
       "      <td>17530.0</td>\n",
       "      <td>United Kingdom</td>\n",
       "    </tr>\n",
       "  </tbody>\n",
       "</table>\n",
       "<p>525461 rows × 8 columns</p>\n",
       "</div>"
      ],
      "text/plain": [
       "       InvoiceNumber ProductCode                          ProductName  \\\n",
       "0             489434       85048  15CM CHRISTMAS GLASS BALL 20 LIGHTS   \n",
       "1             489434      79323P                   PINK CHERRY LIGHTS   \n",
       "2             489434      79323W                  WHITE CHERRY LIGHTS   \n",
       "3             489434       22041         RECORD FRAME 7\" SINGLE SIZE    \n",
       "4             489434       21232       STRAWBERRY CERAMIC TRINKET BOX   \n",
       "...              ...         ...                                  ...   \n",
       "525456        538171       22271                 FELTCRAFT DOLL ROSIE   \n",
       "525457        538171       22750         FELTCRAFT PRINCESS LOLA DOLL   \n",
       "525458        538171       22751       FELTCRAFT PRINCESS OLIVIA DOLL   \n",
       "525459        538171       20970   PINK FLORAL FELTCRAFT SHOULDER BAG   \n",
       "525460        538171       21931               JUMBO STORAGE BAG SUKI   \n",
       "\n",
       "        Quantity         InvoiceDate  UnitPrice  CustomerId         Country  \n",
       "0             12 2009-12-01 07:45:00       6.95     13085.0  United Kingdom  \n",
       "1             12 2009-12-01 07:45:00       6.75     13085.0  United Kingdom  \n",
       "2             12 2009-12-01 07:45:00       6.75     13085.0  United Kingdom  \n",
       "3             48 2009-12-01 07:45:00       2.10     13085.0  United Kingdom  \n",
       "4             24 2009-12-01 07:45:00       1.25     13085.0  United Kingdom  \n",
       "...          ...                 ...        ...         ...             ...  \n",
       "525456         2 2010-12-09 20:01:00       2.95     17530.0  United Kingdom  \n",
       "525457         1 2010-12-09 20:01:00       3.75     17530.0  United Kingdom  \n",
       "525458         1 2010-12-09 20:01:00       3.75     17530.0  United Kingdom  \n",
       "525459         2 2010-12-09 20:01:00       3.75     17530.0  United Kingdom  \n",
       "525460         2 2010-12-09 20:01:00       1.95     17530.0  United Kingdom  \n",
       "\n",
       "[525461 rows x 8 columns]"
      ]
     },
     "execution_count": 3,
     "metadata": {},
     "output_type": "execute_result"
    }
   ],
   "source": [
    "df"
   ]
  },
  {
   "attachments": {},
   "cell_type": "markdown",
   "id": "9a8d800e",
   "metadata": {},
   "source": [
    "first we will delete rows that doesn't have <code>CustomerId</code>"
   ]
  },
  {
   "cell_type": "code",
   "execution_count": 4,
   "id": "a104e359",
   "metadata": {
    "id": "1269279d"
   },
   "outputs": [
    {
     "data": {
      "text/plain": [
       "(417534, 8)"
      ]
     },
     "execution_count": 4,
     "metadata": {},
     "output_type": "execute_result"
    }
   ],
   "source": [
    "# remove null customer id values\n",
    "\n",
    "df_no_missing_CustomerId = df.copy()\n",
    "df_no_missing_CustomerId = df_no_missing_CustomerId[df_no_missing_CustomerId[\"CustomerId\"].notna()]\n",
    "df_no_missing_CustomerId.shape"
   ]
  },
  {
   "attachments": {},
   "cell_type": "markdown",
   "id": "20ef7db1",
   "metadata": {},
   "source": [
    "next we want remove duplicated rows"
   ]
  },
  {
   "cell_type": "code",
   "execution_count": 5,
   "id": "acc758e5",
   "metadata": {
    "id": "582951c6"
   },
   "outputs": [],
   "source": [
    "# keep only one row per duplicate rows\n",
    "df_no_duplicate = df_no_missing_CustomerId.copy()\n",
    "df_no_duplicate = df_no_duplicate.drop_duplicates()"
   ]
  },
  {
   "attachments": {},
   "cell_type": "markdown",
   "id": "582669b8",
   "metadata": {},
   "source": [
    "and removing rows that has invalid prices (keep price>0)"
   ]
  },
  {
   "cell_type": "code",
   "execution_count": 6,
   "id": "b2d944eb",
   "metadata": {
    "id": "97e5386d"
   },
   "outputs": [],
   "source": [
    "# remove prices not bigger than zero\n",
    "df_no_missing_price = df_no_duplicate.copy()\n",
    "df_no_missing_price = df_no_missing_price[df_no_missing_price[\"UnitPrice\"]>0]\n"
   ]
  },
  {
   "attachments": {},
   "cell_type": "markdown",
   "id": "c3108e88",
   "metadata": {},
   "source": [
    "calculate the percentage of cancelled orders.\n",
    "\n",
    "note that because some orders have more than one product, some <code>InvoiceNumber</code> occur more than one time"
   ]
  },
  {
   "cell_type": "code",
   "execution_count": 7,
   "id": "ddf9f6d6",
   "metadata": {
    "id": "d54f4178",
    "outputId": "fa029c4a-a313-4726-a4d3-33f15cc1b59f"
   },
   "outputs": [
    {
     "data": {
      "text/plain": [
       "19"
      ]
     },
     "execution_count": 7,
     "metadata": {},
     "output_type": "execute_result"
    }
   ],
   "source": [
    "# calculate the percentage of cancelled orders\n",
    "tmp_df = df_no_missing_price.drop_duplicates([\"InvoiceNumber\"])\n",
    "canceled_invoice=tmp_df[\"InvoiceNumber\"].str.startswith('C').sum()\n",
    "percentage_cancelled_orders = round(canceled_invoice / tmp_df.shape[0] *100)\n",
    "\n",
    "percentage_cancelled_orders\n"
   ]
  },
  {
   "attachments": {},
   "cell_type": "markdown",
   "id": "f1e40bb3",
   "metadata": {},
   "source": [
    "find customer ID of top 5 Customers,who have the most orders"
   ]
  },
  {
   "cell_type": "code",
   "execution_count": 8,
   "id": "7ea67c94",
   "metadata": {},
   "outputs": [
    {
     "name": "stdout",
     "output_type": "stream",
     "text": [
      "<class 'pandas.core.frame.DataFrame'>\n",
      "Int64Index: 410732 entries, 0 to 525460\n",
      "Data columns (total 8 columns):\n",
      " #   Column         Non-Null Count   Dtype         \n",
      "---  ------         --------------   -----         \n",
      " 0   InvoiceNumber  410732 non-null  object        \n",
      " 1   ProductCode    410732 non-null  object        \n",
      " 2   ProductName    410732 non-null  object        \n",
      " 3   Quantity       410732 non-null  int64         \n",
      " 4   InvoiceDate    410732 non-null  datetime64[ns]\n",
      " 5   UnitPrice      410732 non-null  float64       \n",
      " 6   CustomerId     410732 non-null  object        \n",
      " 7   Country        410732 non-null  object        \n",
      "dtypes: datetime64[ns](1), float64(1), int64(1), object(5)\n",
      "memory usage: 28.2+ MB\n"
     ]
    }
   ],
   "source": [
    "# change customer id to string\n",
    "df_no_missing_price[\"CustomerId\"]= df_no_missing_price[\"CustomerId\"].astype(int)\n",
    "df_no_missing_price[\"CustomerId\"]= df_no_missing_price[\"CustomerId\"].astype(str)\n",
    "df_no_missing_price.info()"
   ]
  },
  {
   "cell_type": "code",
   "execution_count": 10,
   "id": "bf69c9b2",
   "metadata": {
    "id": "bf2501b4",
    "outputId": "36051d24-312b-4a56-fdc7-9022c51168d4"
   },
   "outputs": [
    {
     "data": {
      "text/plain": [
       "Index(['15311', '14911', '17511', '14680', '13798'], dtype='object', name='CustomerId')"
      ]
     },
     "execution_count": 10,
     "metadata": {},
     "output_type": "execute_result"
    }
   ],
   "source": [
    "# calculate the top 5 cancelling customers\n",
    "\n",
    "top_cancelling_customers = df_no_missing_price[df_no_missing_price[\"InvoiceNumber\"].astype(str).str.startswith('C')].\\\n",
    "                                                groupby(\"CustomerId\")[\"InvoiceNumber\"].count().sort_values(ascending=False).head(5).index\n",
    "top_cancelling_customers"
   ]
  },
  {
   "attachments": {},
   "cell_type": "markdown",
   "id": "47b39d53",
   "metadata": {},
   "source": [
    "at the end we romove cancelled orders from data set"
   ]
  },
  {
   "cell_type": "code",
   "execution_count": 12,
   "id": "e4d2ac62",
   "metadata": {
    "id": "1888ca41"
   },
   "outputs": [],
   "source": [
    "# remove the cancelled orders\n",
    "df_no_canceled_inovice = df_no_missing_price.copy()\n",
    "\n",
    "df_no_canceled_inovice = df_no_canceled_inovice.drop(df_no_canceled_inovice[df_no_canceled_inovice[\"InvoiceNumber\"].astype(str).str.startswith('C')].index,axis=0)"
   ]
  },
  {
   "attachments": {},
   "cell_type": "markdown",
   "id": "b88016c2",
   "metadata": {},
   "source": [
    "save data set for next step"
   ]
  },
  {
   "cell_type": "code",
   "execution_count": 13,
   "id": "c64c3a7b",
   "metadata": {},
   "outputs": [],
   "source": [
    "df_no_canceled_inovice.to_csv(\"preprocessed_sales.csv\", index=False)"
   ]
  }
 ],
 "metadata": {
  "colab": {
   "name": "preprocessing_answers.ipynb",
   "provenance": []
  },
  "kernelspec": {
   "display_name": "Python 3.9.12 ('base')",
   "language": "python",
   "name": "python3"
  },
  "language_info": {
   "codemirror_mode": {
    "name": "ipython",
    "version": 3
   },
   "file_extension": ".py",
   "mimetype": "text/x-python",
   "name": "python",
   "nbconvert_exporter": "python",
   "pygments_lexer": "ipython3",
   "version": "3.9.12"
  },
  "vscode": {
   "interpreter": {
    "hash": "39a820cb6228b99f37f39fbb649dd2b86436e0419dcc7c63f4704b792a5688ed"
   }
  }
 },
 "nbformat": 4,
 "nbformat_minor": 5
}
