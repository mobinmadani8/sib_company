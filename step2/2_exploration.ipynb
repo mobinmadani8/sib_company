{
 "cells": [
  {
   "attachments": {},
   "cell_type": "markdown",
   "id": "eac8f972",
   "metadata": {
    "id": "dbd55073"
   },
   "source": [
    "<h1 align=center style=\"line-height:200%;font-family:vazir;color:#0099cc\">\n",
    "<font face=\"vazir\" color=\"#0099cc\">\n",
    "Step2 : exploration\n",
    "</font>\n",
    "</h1>"
   ]
  },
  {
   "attachments": {},
   "cell_type": "markdown",
   "id": "ff650ca9",
   "metadata": {},
   "source": [
    "in this step we want explore our data and answer some question"
   ]
  },
  {
   "cell_type": "code",
   "execution_count": 1,
   "id": "e32ca5f1",
   "metadata": {
    "id": "4a1c31c4"
   },
   "outputs": [],
   "source": [
    "# import libraries\n",
    "import pandas as pd\n",
    "import matplotlib.pyplot as plt"
   ]
  },
  {
   "cell_type": "code",
   "execution_count": 2,
   "id": "e8832d69",
   "metadata": {
    "colab": {
     "base_uri": "https://localhost:8080/",
     "height": 434
    },
    "id": "b0ad0cab",
    "outputId": "ed789465-43da-484a-bc18-fcd536a6f65d"
   },
   "outputs": [
    {
     "data": {
      "text/html": [
       "<div>\n",
       "<style scoped>\n",
       "    .dataframe tbody tr th:only-of-type {\n",
       "        vertical-align: middle;\n",
       "    }\n",
       "\n",
       "    .dataframe tbody tr th {\n",
       "        vertical-align: top;\n",
       "    }\n",
       "\n",
       "    .dataframe thead th {\n",
       "        text-align: right;\n",
       "    }\n",
       "</style>\n",
       "<table border=\"1\" class=\"dataframe\">\n",
       "  <thead>\n",
       "    <tr style=\"text-align: right;\">\n",
       "      <th></th>\n",
       "      <th>InvoiceNumber</th>\n",
       "      <th>ProductCode</th>\n",
       "      <th>ProductName</th>\n",
       "      <th>Quantity</th>\n",
       "      <th>InvoiceDate</th>\n",
       "      <th>UnitPrice</th>\n",
       "      <th>CustomerId</th>\n",
       "      <th>Country</th>\n",
       "    </tr>\n",
       "  </thead>\n",
       "  <tbody>\n",
       "    <tr>\n",
       "      <th>0</th>\n",
       "      <td>489434</td>\n",
       "      <td>85048</td>\n",
       "      <td>15CM CHRISTMAS GLASS BALL 20 LIGHTS</td>\n",
       "      <td>12</td>\n",
       "      <td>2009-12-01 07:45:00</td>\n",
       "      <td>6.95</td>\n",
       "      <td>13085</td>\n",
       "      <td>United Kingdom</td>\n",
       "    </tr>\n",
       "    <tr>\n",
       "      <th>1</th>\n",
       "      <td>489434</td>\n",
       "      <td>79323P</td>\n",
       "      <td>PINK CHERRY LIGHTS</td>\n",
       "      <td>12</td>\n",
       "      <td>2009-12-01 07:45:00</td>\n",
       "      <td>6.75</td>\n",
       "      <td>13085</td>\n",
       "      <td>United Kingdom</td>\n",
       "    </tr>\n",
       "    <tr>\n",
       "      <th>2</th>\n",
       "      <td>489434</td>\n",
       "      <td>79323W</td>\n",
       "      <td>WHITE CHERRY LIGHTS</td>\n",
       "      <td>12</td>\n",
       "      <td>2009-12-01 07:45:00</td>\n",
       "      <td>6.75</td>\n",
       "      <td>13085</td>\n",
       "      <td>United Kingdom</td>\n",
       "    </tr>\n",
       "    <tr>\n",
       "      <th>3</th>\n",
       "      <td>489434</td>\n",
       "      <td>22041</td>\n",
       "      <td>RECORD FRAME 7\" SINGLE SIZE</td>\n",
       "      <td>48</td>\n",
       "      <td>2009-12-01 07:45:00</td>\n",
       "      <td>2.10</td>\n",
       "      <td>13085</td>\n",
       "      <td>United Kingdom</td>\n",
       "    </tr>\n",
       "    <tr>\n",
       "      <th>4</th>\n",
       "      <td>489434</td>\n",
       "      <td>21232</td>\n",
       "      <td>STRAWBERRY CERAMIC TRINKET BOX</td>\n",
       "      <td>24</td>\n",
       "      <td>2009-12-01 07:45:00</td>\n",
       "      <td>1.25</td>\n",
       "      <td>13085</td>\n",
       "      <td>United Kingdom</td>\n",
       "    </tr>\n",
       "    <tr>\n",
       "      <th>...</th>\n",
       "      <td>...</td>\n",
       "      <td>...</td>\n",
       "      <td>...</td>\n",
       "      <td>...</td>\n",
       "      <td>...</td>\n",
       "      <td>...</td>\n",
       "      <td>...</td>\n",
       "      <td>...</td>\n",
       "    </tr>\n",
       "    <tr>\n",
       "      <th>400911</th>\n",
       "      <td>538171</td>\n",
       "      <td>22271</td>\n",
       "      <td>FELTCRAFT DOLL ROSIE</td>\n",
       "      <td>2</td>\n",
       "      <td>2010-12-09 20:01:00</td>\n",
       "      <td>2.95</td>\n",
       "      <td>17530</td>\n",
       "      <td>United Kingdom</td>\n",
       "    </tr>\n",
       "    <tr>\n",
       "      <th>400912</th>\n",
       "      <td>538171</td>\n",
       "      <td>22750</td>\n",
       "      <td>FELTCRAFT PRINCESS LOLA DOLL</td>\n",
       "      <td>1</td>\n",
       "      <td>2010-12-09 20:01:00</td>\n",
       "      <td>3.75</td>\n",
       "      <td>17530</td>\n",
       "      <td>United Kingdom</td>\n",
       "    </tr>\n",
       "    <tr>\n",
       "      <th>400913</th>\n",
       "      <td>538171</td>\n",
       "      <td>22751</td>\n",
       "      <td>FELTCRAFT PRINCESS OLIVIA DOLL</td>\n",
       "      <td>1</td>\n",
       "      <td>2010-12-09 20:01:00</td>\n",
       "      <td>3.75</td>\n",
       "      <td>17530</td>\n",
       "      <td>United Kingdom</td>\n",
       "    </tr>\n",
       "    <tr>\n",
       "      <th>400914</th>\n",
       "      <td>538171</td>\n",
       "      <td>20970</td>\n",
       "      <td>PINK FLORAL FELTCRAFT SHOULDER BAG</td>\n",
       "      <td>2</td>\n",
       "      <td>2010-12-09 20:01:00</td>\n",
       "      <td>3.75</td>\n",
       "      <td>17530</td>\n",
       "      <td>United Kingdom</td>\n",
       "    </tr>\n",
       "    <tr>\n",
       "      <th>400915</th>\n",
       "      <td>538171</td>\n",
       "      <td>21931</td>\n",
       "      <td>JUMBO STORAGE BAG SUKI</td>\n",
       "      <td>2</td>\n",
       "      <td>2010-12-09 20:01:00</td>\n",
       "      <td>1.95</td>\n",
       "      <td>17530</td>\n",
       "      <td>United Kingdom</td>\n",
       "    </tr>\n",
       "  </tbody>\n",
       "</table>\n",
       "<p>400916 rows × 8 columns</p>\n",
       "</div>"
      ],
      "text/plain": [
       "        InvoiceNumber ProductCode                          ProductName  \\\n",
       "0              489434       85048  15CM CHRISTMAS GLASS BALL 20 LIGHTS   \n",
       "1              489434      79323P                   PINK CHERRY LIGHTS   \n",
       "2              489434      79323W                  WHITE CHERRY LIGHTS   \n",
       "3              489434       22041         RECORD FRAME 7\" SINGLE SIZE    \n",
       "4              489434       21232       STRAWBERRY CERAMIC TRINKET BOX   \n",
       "...               ...         ...                                  ...   \n",
       "400911         538171       22271                 FELTCRAFT DOLL ROSIE   \n",
       "400912         538171       22750         FELTCRAFT PRINCESS LOLA DOLL   \n",
       "400913         538171       22751       FELTCRAFT PRINCESS OLIVIA DOLL   \n",
       "400914         538171       20970   PINK FLORAL FELTCRAFT SHOULDER BAG   \n",
       "400915         538171       21931               JUMBO STORAGE BAG SUKI   \n",
       "\n",
       "        Quantity          InvoiceDate  UnitPrice  CustomerId         Country  \n",
       "0             12  2009-12-01 07:45:00       6.95       13085  United Kingdom  \n",
       "1             12  2009-12-01 07:45:00       6.75       13085  United Kingdom  \n",
       "2             12  2009-12-01 07:45:00       6.75       13085  United Kingdom  \n",
       "3             48  2009-12-01 07:45:00       2.10       13085  United Kingdom  \n",
       "4             24  2009-12-01 07:45:00       1.25       13085  United Kingdom  \n",
       "...          ...                  ...        ...         ...             ...  \n",
       "400911         2  2010-12-09 20:01:00       2.95       17530  United Kingdom  \n",
       "400912         1  2010-12-09 20:01:00       3.75       17530  United Kingdom  \n",
       "400913         1  2010-12-09 20:01:00       3.75       17530  United Kingdom  \n",
       "400914         2  2010-12-09 20:01:00       3.75       17530  United Kingdom  \n",
       "400915         2  2010-12-09 20:01:00       1.95       17530  United Kingdom  \n",
       "\n",
       "[400916 rows x 8 columns]"
      ]
     },
     "execution_count": 2,
     "metadata": {},
     "output_type": "execute_result"
    }
   ],
   "source": [
    "# read the preprocessed dataset\n",
    "df = pd.read_csv(\"preprocessed_sales.csv\")\n",
    "df"
   ]
  },
  {
   "attachments": {},
   "cell_type": "markdown",
   "id": "8fe60d84",
   "metadata": {},
   "source": [
    "how many order is remain?"
   ]
  },
  {
   "cell_type": "code",
   "execution_count": 9,
   "id": "7e0de5ef",
   "metadata": {
    "id": "d54f4178"
   },
   "outputs": [
    {
     "data": {
      "text/plain": [
       "19213"
      ]
     },
     "execution_count": 9,
     "metadata": {},
     "output_type": "execute_result"
    }
   ],
   "source": [
    "# calculate the number of remaining orders\n",
    "\n",
    "number_of_orders = df[\"InvoiceNumber\"].unique().shape[0]\n",
    "number_of_orders"
   ]
  },
  {
   "attachments": {},
   "cell_type": "markdown",
   "id": "980e42f0",
   "metadata": {},
   "source": [
    "this data set gathered in which period?"
   ]
  },
  {
   "cell_type": "code",
   "execution_count": 10,
   "id": "24c0d07f",
   "metadata": {
    "id": "95f58e32"
   },
   "outputs": [
    {
     "data": {
      "text/plain": [
       "('2009-12-01 07:45:00', '2010-12-09 20:01:00')"
      ]
     },
     "execution_count": 10,
     "metadata": {},
     "output_type": "execute_result"
    }
   ],
   "source": [
    "# calculate the period window\n",
    "\n",
    "window_period = (df[\"InvoiceDate\"].min() ,df[\"InvoiceDate\"].max())\n",
    "window_period"
   ]
  },
  {
   "attachments": {},
   "cell_type": "markdown",
   "id": "2e4c8aa7",
   "metadata": {},
   "source": [
    "using bar plot to show order count of week days"
   ]
  },
  {
   "cell_type": "code",
   "execution_count": 11,
   "id": "9d43f9f2",
   "metadata": {
    "id": "54fadd06"
   },
   "outputs": [
    {
     "data": {
      "text/plain": [
       "19213"
      ]
     },
     "execution_count": 11,
     "metadata": {},
     "output_type": "execute_result"
    },
    {
     "data": {
      "image/png": "[encoded data removed]",
      "text/plain": [
       "<Figure size 1080x432 with 1 Axes>"
      ]
     },
     "metadata": {
      "needs_background": "light"
     },
     "output_type": "display_data"
    }
   ],
   "source": [
    "# plot the number of orders per week day\n",
    "fig1 , ax1 = plt.subplots(figsize = (15,6))\n",
    "\n",
    "order_time = pd.to_datetime(df.drop_duplicates(\"InvoiceNumber\")[\"InvoiceDate\"])\n",
    "\n",
    "order_time= order_time.dt.day_name().value_counts().reindex([\"Monday\", \"Tuesday\", \"Wednesday\" , \"Thursday\" , \"Friday\" , \"Saturday\" , \"Sunday\"])\n",
    "\n",
    "order_time.plot(kind=\"bar\" , ax=ax1 , color=\"lime\")\n",
    "ax1.set_xlabel(\"Day\" , color=\"lightseagreen\" , fontsize=15)\n",
    "ax1.set_ylabel(\"Number of Orders\" , color=\"lightseagreen\" , fontsize=15)\n",
    "ax1.set_title(\"Number of orders for different Days\" , color=\"green\" , fontsize=15)\n",
    "ax1.set_xticklabels([\"Mon\", \"Tue\", \"Wed\" , \"Thur\" , \"Fri\" , \"Sat\" , \"Sun\"],rotation=0,fontsize=15)\n",
    "order_time.sum()\n",
    "\n"
   ]
  },
  {
   "attachments": {},
   "cell_type": "markdown",
   "id": "eb6fd71b",
   "metadata": {},
   "source": [
    "using bar blot to show total sale of each month"
   ]
  },
  {
   "cell_type": "code",
   "execution_count": 13,
   "id": "074c5cc0",
   "metadata": {},
   "outputs": [
    {
     "data": {
      "image/png": "[encoded data removed]",
      "text/plain": [
       "<Figure size 1080x432 with 1 Axes>"
      ]
     },
     "metadata": {
      "needs_background": "light"
     },
     "output_type": "display_data"
    }
   ],
   "source": [
    "tmp_df = df.copy()\n",
    "fig2 , ax2 = plt.subplots(figsize=(15,6))\n",
    "\n",
    "month_list=pd.to_datetime(df[\"InvoiceDate\"]).dt.month\n",
    "year_list =pd.to_datetime(df[\"InvoiceDate\"]).dt.year\n",
    "tmp_df[\"month-year\"]= ((year_list*100)+month_list)\n",
    "tmp_df[\"totalPrice\"]=tmp_df[\"UnitPrice\"]*tmp_df[\"Quantity\"]\n",
    "tmp_df.groupby(\"month-year\")[\"totalPrice\"].sum().sort_index().plot(kind=\"bar\" , ax=ax2  , color=\"darkkhaki\")\n",
    "ax2.set_xlabel(\"Month\" , color=\"orange\" , fontsize=15)\n",
    "ax2.set_ylabel(\"Sales amount\" , color=\"orange\" , fontsize=15)\n",
    "ax2.set_title(\"Number of orders for different Months\", color=\"cadetblue\", fontsize=15)\n",
    "ax2.set_xticklabels([\"Dec_2009\" , \"Jan_2010\" , \"Feb_2010\" , \"Mar_2010\" , \"Apr_2010\" , \"May_2010\" , \"Jun_2010\" , \"July_2010\",\"Aug_2010\" , \"Sep_2010\" , \"Oct_2010\" , \"Nov_2010\",\"Dec_2010\"] , rotation=45,fontsize=13);\n"
   ]
  }
 ],
 "metadata": {
  "colab": {
   "name": "exploration_answers.ipynb",
   "provenance": []
  },
  "kernelspec": {
   "display_name": "Python 3.9.12 ('base')",
   "language": "python",
   "name": "python3"
  },
  "language_info": {
   "codemirror_mode": {
    "name": "ipython",
    "version": 3
   },
   "file_extension": ".py",
   "mimetype": "text/x-python",
   "name": "python",
   "nbconvert_exporter": "python",
   "pygments_lexer": "ipython3",
   "version": "3.9.12"
  },
  "vscode": {
   "interpreter": {
    "hash": "39a820cb6228b99f37f39fbb649dd2b86436e0419dcc7c63f4704b792a5688ed"
   }
  }
 },
 "nbformat": 4,
 "nbformat_minor": 5
}
