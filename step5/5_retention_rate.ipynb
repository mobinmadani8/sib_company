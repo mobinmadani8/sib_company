{
  "cells": [
    {
      "attachments": {},
      "cell_type": "markdown",
      "metadata": {
        "id": "bhHDAqXIhCnc"
      },
      "source": [
        "<h1 align=center style=\"line-height:200%;font-family:vazir;color:#0099cc\">\n",
        "<font face=\"vazir\" color=\"#0099cc\">\n",
        "step5 : retention rate\n",
        "</font>\n",
        "</h1>"
      ]
    },
    {
      "attachments": {},
      "cell_type": "markdown",
      "id": "f60a80e9",
      "metadata": {},
      "source": [
        "<p style=\"line-height:200%;font-family:vazir;font-size:medium\">\n",
        "<font size=3>\n",
        "     To attract a new customer for the company, the marketing team needs to use different methods of advertising and communicating with customers, which is costly. As a result, they are interested in keeping as many of their current customers as possible and not losing them. For this purpose, they request you to draw a customer retention chart for them as shown below.\n",
        "</font>\n",
        "</p>\n",
        "<div style=\"text-align:center;\"><img src=\"retention_rate_b.jpg\"></div>\n",
        "\n",
        "\n",
        "<p style=\"line-height:200%;font-family:vazir;font-size:medium\">\n",
        "<font face=\"vazir\" size=3>\n",
        "In this plot, the vertical axis shows the month when a customer made a transaction with the company for the first time, and the horizontal axis shows how many percent of new customers remain customers of the company in the months after the first transaction and have at least one invoice per month with the company.\n",
        "</font>\n",
        "</p>\n",
        "\n",
        "<p style=\"line-height:200%;font-family:vazir;font-size:medium\">\n",
        "<font face=\"vazir\" size=3>\n",
        "For example, in the figure above, in the first month (the first month from the top on the vertical axis), a number of new customers have had their first transaction with the company, 35% of them have made at least one transaction with the company in the first month after this, and 33 % also had at least one invoice in the next two months.</font>\n",
        "</p>\n"
      ]
    },
    {
      "cell_type": "code",
      "execution_count": 1,
      "metadata": {
        "id": "hYR8CbajhCnk"
      },
      "outputs": [],
      "source": [
        "# import libraries\n",
        "import pandas as pd\n",
        "import matplotlib.pyplot as plt\n",
        "import numpy as np\n",
        "import seaborn as sns"
      ]
    },
    {
      "cell_type": "code",
      "execution_count": 2,
      "metadata": {
        "colab": {
          "base_uri": "https://localhost:8080/",
          "height": 289
        },
        "id": "w8ZPBWwMhCnl",
        "outputId": "6c0ae112-2644-4c30-e3ad-3de2a2137c3f"
      },
      "outputs": [
        {
          "data": {
            "text/html": [
              "<div>\n",
              "<style scoped>\n",
              "    .dataframe tbody tr th:only-of-type {\n",
              "        vertical-align: middle;\n",
              "    }\n",
              "\n",
              "    .dataframe tbody tr th {\n",
              "        vertical-align: top;\n",
              "    }\n",
              "\n",
              "    .dataframe thead th {\n",
              "        text-align: right;\n",
              "    }\n",
              "</style>\n",
              "<table border=\"1\" class=\"dataframe\">\n",
              "  <thead>\n",
              "    <tr style=\"text-align: right;\">\n",
              "      <th></th>\n",
              "      <th>InvoiceNumber</th>\n",
              "      <th>ProductCode</th>\n",
              "      <th>ProductName</th>\n",
              "      <th>Quantity</th>\n",
              "      <th>InvoiceDate</th>\n",
              "      <th>UnitPrice</th>\n",
              "      <th>CustomerId</th>\n",
              "      <th>Country</th>\n",
              "    </tr>\n",
              "  </thead>\n",
              "  <tbody>\n",
              "    <tr>\n",
              "      <th>0</th>\n",
              "      <td>489434</td>\n",
              "      <td>85048</td>\n",
              "      <td>15CM CHRISTMAS GLASS BALL 20 LIGHTS</td>\n",
              "      <td>12</td>\n",
              "      <td>2009-12-01 07:45:00</td>\n",
              "      <td>6.95</td>\n",
              "      <td>13085</td>\n",
              "      <td>United Kingdom</td>\n",
              "    </tr>\n",
              "    <tr>\n",
              "      <th>1</th>\n",
              "      <td>489434</td>\n",
              "      <td>79323P</td>\n",
              "      <td>PINK CHERRY LIGHTS</td>\n",
              "      <td>12</td>\n",
              "      <td>2009-12-01 07:45:00</td>\n",
              "      <td>6.75</td>\n",
              "      <td>13085</td>\n",
              "      <td>United Kingdom</td>\n",
              "    </tr>\n",
              "    <tr>\n",
              "      <th>2</th>\n",
              "      <td>489434</td>\n",
              "      <td>79323W</td>\n",
              "      <td>WHITE CHERRY LIGHTS</td>\n",
              "      <td>12</td>\n",
              "      <td>2009-12-01 07:45:00</td>\n",
              "      <td>6.75</td>\n",
              "      <td>13085</td>\n",
              "      <td>United Kingdom</td>\n",
              "    </tr>\n",
              "    <tr>\n",
              "      <th>3</th>\n",
              "      <td>489434</td>\n",
              "      <td>22041</td>\n",
              "      <td>RECORD FRAME 7\" SINGLE SIZE</td>\n",
              "      <td>48</td>\n",
              "      <td>2009-12-01 07:45:00</td>\n",
              "      <td>2.10</td>\n",
              "      <td>13085</td>\n",
              "      <td>United Kingdom</td>\n",
              "    </tr>\n",
              "    <tr>\n",
              "      <th>4</th>\n",
              "      <td>489434</td>\n",
              "      <td>21232</td>\n",
              "      <td>STRAWBERRY CERAMIC TRINKET BOX</td>\n",
              "      <td>24</td>\n",
              "      <td>2009-12-01 07:45:00</td>\n",
              "      <td>1.25</td>\n",
              "      <td>13085</td>\n",
              "      <td>United Kingdom</td>\n",
              "    </tr>\n",
              "    <tr>\n",
              "      <th>...</th>\n",
              "      <td>...</td>\n",
              "      <td>...</td>\n",
              "      <td>...</td>\n",
              "      <td>...</td>\n",
              "      <td>...</td>\n",
              "      <td>...</td>\n",
              "      <td>...</td>\n",
              "      <td>...</td>\n",
              "    </tr>\n",
              "    <tr>\n",
              "      <th>400911</th>\n",
              "      <td>538171</td>\n",
              "      <td>22271</td>\n",
              "      <td>FELTCRAFT DOLL ROSIE</td>\n",
              "      <td>2</td>\n",
              "      <td>2010-12-09 20:01:00</td>\n",
              "      <td>2.95</td>\n",
              "      <td>17530</td>\n",
              "      <td>United Kingdom</td>\n",
              "    </tr>\n",
              "    <tr>\n",
              "      <th>400912</th>\n",
              "      <td>538171</td>\n",
              "      <td>22750</td>\n",
              "      <td>FELTCRAFT PRINCESS LOLA DOLL</td>\n",
              "      <td>1</td>\n",
              "      <td>2010-12-09 20:01:00</td>\n",
              "      <td>3.75</td>\n",
              "      <td>17530</td>\n",
              "      <td>United Kingdom</td>\n",
              "    </tr>\n",
              "    <tr>\n",
              "      <th>400913</th>\n",
              "      <td>538171</td>\n",
              "      <td>22751</td>\n",
              "      <td>FELTCRAFT PRINCESS OLIVIA DOLL</td>\n",
              "      <td>1</td>\n",
              "      <td>2010-12-09 20:01:00</td>\n",
              "      <td>3.75</td>\n",
              "      <td>17530</td>\n",
              "      <td>United Kingdom</td>\n",
              "    </tr>\n",
              "    <tr>\n",
              "      <th>400914</th>\n",
              "      <td>538171</td>\n",
              "      <td>20970</td>\n",
              "      <td>PINK FLORAL FELTCRAFT SHOULDER BAG</td>\n",
              "      <td>2</td>\n",
              "      <td>2010-12-09 20:01:00</td>\n",
              "      <td>3.75</td>\n",
              "      <td>17530</td>\n",
              "      <td>United Kingdom</td>\n",
              "    </tr>\n",
              "    <tr>\n",
              "      <th>400915</th>\n",
              "      <td>538171</td>\n",
              "      <td>21931</td>\n",
              "      <td>JUMBO STORAGE BAG SUKI</td>\n",
              "      <td>2</td>\n",
              "      <td>2010-12-09 20:01:00</td>\n",
              "      <td>1.95</td>\n",
              "      <td>17530</td>\n",
              "      <td>United Kingdom</td>\n",
              "    </tr>\n",
              "  </tbody>\n",
              "</table>\n",
              "<p>400916 rows × 8 columns</p>\n",
              "</div>"
            ],
            "text/plain": [
              "        InvoiceNumber ProductCode                          ProductName  \\\n",
              "0              489434       85048  15CM CHRISTMAS GLASS BALL 20 LIGHTS   \n",
              "1              489434      79323P                   PINK CHERRY LIGHTS   \n",
              "2              489434      79323W                  WHITE CHERRY LIGHTS   \n",
              "3              489434       22041         RECORD FRAME 7\" SINGLE SIZE    \n",
              "4              489434       21232       STRAWBERRY CERAMIC TRINKET BOX   \n",
              "...               ...         ...                                  ...   \n",
              "400911         538171       22271                 FELTCRAFT DOLL ROSIE   \n",
              "400912         538171       22750         FELTCRAFT PRINCESS LOLA DOLL   \n",
              "400913         538171       22751       FELTCRAFT PRINCESS OLIVIA DOLL   \n",
              "400914         538171       20970   PINK FLORAL FELTCRAFT SHOULDER BAG   \n",
              "400915         538171       21931               JUMBO STORAGE BAG SUKI   \n",
              "\n",
              "        Quantity          InvoiceDate  UnitPrice  CustomerId         Country  \n",
              "0             12  2009-12-01 07:45:00       6.95       13085  United Kingdom  \n",
              "1             12  2009-12-01 07:45:00       6.75       13085  United Kingdom  \n",
              "2             12  2009-12-01 07:45:00       6.75       13085  United Kingdom  \n",
              "3             48  2009-12-01 07:45:00       2.10       13085  United Kingdom  \n",
              "4             24  2009-12-01 07:45:00       1.25       13085  United Kingdom  \n",
              "...          ...                  ...        ...         ...             ...  \n",
              "400911         2  2010-12-09 20:01:00       2.95       17530  United Kingdom  \n",
              "400912         1  2010-12-09 20:01:00       3.75       17530  United Kingdom  \n",
              "400913         1  2010-12-09 20:01:00       3.75       17530  United Kingdom  \n",
              "400914         2  2010-12-09 20:01:00       3.75       17530  United Kingdom  \n",
              "400915         2  2010-12-09 20:01:00       1.95       17530  United Kingdom  \n",
              "\n",
              "[400916 rows x 8 columns]"
            ]
          },
          "execution_count": 2,
          "metadata": {},
          "output_type": "execute_result"
        }
      ],
      "source": [
        "# read the preprocessed dataset\n",
        "df = pd.read_csv(\"preprocessed_sales.csv\")\n",
        "df"
      ]
    },
    {
      "cell_type": "code",
      "execution_count": 3,
      "id": "677cc8a9",
      "metadata": {},
      "outputs": [
        {
          "data": {
            "text/plain": [
              "CustomerId\n",
              "12346    2009\n",
              "12347    2010\n",
              "12348    2010\n",
              "12349    2010\n",
              "12351    2010\n",
              "         ... \n",
              "18283    2010\n",
              "18284    2010\n",
              "18285    2010\n",
              "18286    2009\n",
              "18287    2010\n",
              "Name: InvoiceDate, Length: 4312, dtype: int64"
            ]
          },
          "execution_count": 3,
          "metadata": {},
          "output_type": "execute_result"
        }
      ],
      "source": [
        "df.drop_duplicates(\"InvoiceNumber\" , inplace=True)\n",
        "df[\"InvoiceDate\"]=pd.to_datetime(df[\"InvoiceDate\"])\n",
        "# first_buy_list=df.groupby(\"CustomerId\")[\"InvoiceDate\"].min()\n",
        "all_buy = df[[\"CustomerId\",\"InvoiceDate\"]].copy()\n",
        "df[\"Date\"]=df[\"InvoiceDate\"].dt.year*100+df[\"InvoiceDate\"].dt.month\n",
        "first_buy_list=all_buy.groupby(\"CustomerId\")[\"InvoiceDate\"].min()\n",
        "first_buy_list.dt.year"
      ]
    },
    {
      "cell_type": "code",
      "execution_count": 4,
      "id": "00f14a9b",
      "metadata": {},
      "outputs": [],
      "source": [
        "df.drop_duplicates([\"CustomerId\",\"Date\"],inplace=True)\n",
        "plot_df=pd.DataFrame()\n",
        "plot_df[1]=df[df[\"CustomerId\"].isin( first_buy_list[(first_buy_list.dt.year==2009) & (first_buy_list.dt.month==12)].index)].groupby(\"Date\")[\"CustomerId\"].count().reset_index(drop=True)\n",
        "plot_df[2]=df[df[\"CustomerId\"].isin( first_buy_list[(first_buy_list.dt.year==2010) & (first_buy_list.dt.month==1)].index)].groupby(\"Date\")[\"CustomerId\"].count().reset_index(drop =True)\n",
        "plot_df[3]=df[df[\"CustomerId\"].isin( first_buy_list[(first_buy_list.dt.year==2010) & (first_buy_list.dt.month==2)].index)].groupby(\"Date\")[\"CustomerId\"].count().reset_index(drop =True)\n",
        "plot_df[4]=df[df[\"CustomerId\"].isin( first_buy_list[(first_buy_list.dt.year==2010) & (first_buy_list.dt.month==3)].index)].groupby(\"Date\")[\"CustomerId\"].count().reset_index(drop =True)\n",
        "plot_df[5]=df[df[\"CustomerId\"].isin( first_buy_list[(first_buy_list.dt.year==2010) & (first_buy_list.dt.month==4)].index)].groupby(\"Date\")[\"CustomerId\"].count().reset_index(drop =True)\n",
        "plot_df[6]=df[df[\"CustomerId\"].isin( first_buy_list[(first_buy_list.dt.year==2010) & (first_buy_list.dt.month==5)].index)].groupby(\"Date\")[\"CustomerId\"].count().reset_index(drop =True)\n",
        "plot_df[7]=df[df[\"CustomerId\"].isin( first_buy_list[(first_buy_list.dt.year==2010) & (first_buy_list.dt.month==6)].index)].groupby(\"Date\")[\"CustomerId\"].count().reset_index(drop =True)\n",
        "plot_df[8]=df[df[\"CustomerId\"].isin( first_buy_list[(first_buy_list.dt.year==2010) & (first_buy_list.dt.month==7)].index)].groupby(\"Date\")[\"CustomerId\"].count().reset_index(drop =True)\n",
        "plot_df[9]=df[df[\"CustomerId\"].isin( first_buy_list[(first_buy_list.dt.year==2010) & (first_buy_list.dt.month==8)].index)].groupby(\"Date\")[\"CustomerId\"].count().reset_index(drop =True)\n",
        "plot_df[10]=df[df[\"CustomerId\"].isin( first_buy_list[(first_buy_list.dt.year==2010) & (first_buy_list.dt.month==9)].index)].groupby(\"Date\")[\"CustomerId\"].count().reset_index(drop =True)\n",
        "plot_df[11]=df[df[\"CustomerId\"].isin( first_buy_list[(first_buy_list.dt.year==2010) & (first_buy_list.dt.month==10)].index)].groupby(\"Date\")[\"CustomerId\"].count().reset_index(drop =True)\n",
        "plot_df[12]=df[df[\"CustomerId\"].isin( first_buy_list[(first_buy_list.dt.year==2010) & (first_buy_list.dt.month==11)].index)].groupby(\"Date\")[\"CustomerId\"].count().reset_index(drop =True)\n",
        "plot_df[13]=df[df[\"CustomerId\"].isin( first_buy_list[(first_buy_list.dt.year==2010) & (first_buy_list.dt.month==12)].index)].groupby(\"Date\")[\"CustomerId\"].count().reset_index(drop =True)\n",
        "plot_df = plot_df/plot_df.iloc[0]*100\n",
        "plot_df =plot_df.T\n",
        "# sns.heatmap(plot_df,annot=True)\n"
      ]
    },
    {
      "attachments": {},
      "cell_type": "markdown",
      "id": "23750ca0",
      "metadata": {},
      "source": [
        "\n",
        "<h2>\n",
        "<font face=\"vazir\" color=\"#0099cc\">\n",
        "plot features</font>\n",
        "</h2>\n",
        "\n",
        "<p dir=rtl style=\"direction: rtl;text-align: right;line-height:200%;font-family:vazir;font-size:medium\">\n",
        "<table dir=rtl align = center>\n",
        "\n",
        "<tr>\n",
        "<th><font face=\"vazir\" size=3>feature</th>\n",
        "<th><font face=\"vazir\" size=3>values</th>\n",
        "</tr>\n",
        "\n",
        "<tr>\n",
        "<td><font face=\"vazir\" size=3>figure size</td>\n",
        "<td><font face=\"vazir\" size=3>8*15</td>\n",
        "</tr>\n",
        "\n",
        "<tr>\n",
        "<td><font face=\"vazir\" size=3>annotation range</td>\n",
        "<td><font face=\"vazir\" size=3>0 - 50 </td>\n",
        "</tr>\n",
        "\n",
        "\n",
        "<tr>\n",
        "<td><font face=\"vazir\" size=3>number foramt code</td>\n",
        "<td><font face=\"vazir\" size=3>0f.</td>\n",
        "</tr>\n",
        "\n",
        "\n",
        "\n",
        "<tr>\n",
        "<td><font face=\"vazir\" size=3>color map name</td>\n",
        "<td><font face=\"vazir\" size=3>BuGn</td>\n",
        "</tr>\n",
        "\n",
        "</table>\n",
        "</p>"
      ]
    },
    {
      "cell_type": "code",
      "execution_count": 5,
      "metadata": {
        "colab": {
          "base_uri": "https://localhost:8080/",
          "height": 513
        },
        "id": "GD041e4rhCnp",
        "outputId": "0596b365-7419-4a29-de12-576f5cb4dda6"
      },
      "outputs": [
        {
          "data": {
            "image/png": "[encoded data removed]",
            "text/plain": [
              "<Figure size 1080x576 with 2 Axes>"
            ]
          },
          "metadata": {
            "needs_background": "light"
          },
          "output_type": "display_data"
        }
      ],
      "source": [
        "\n",
        "fig, ax = plt.subplots(figsize=(15,8))\n",
        "sns.heatmap(ax=ax , data=plot_df , annot=True , cmap=\"BuGn\",vmin=0 , vmax=50 , fmt=\".0f\",)\n",
        "ax.set_xlabel(\"CohortIndex\")\n",
        "ax.set_title(\"Retention rates\")\n",
        "ax.set_xticklabels(range(1,14))\n",
        "ax.set_yticklabels([\"2009-12-01\", \"2010-01-01\", \"2010-02-01\", \"2010-03-01\", \"2010-04-01\", \"2010-05-01\", \"2010-06-01\", \"2010-07-01\", \"2010-08-01\", \"2010-09-01\", \"2010-10-01\", \"2010-11-01\", \"2010-12-01\"],rotation=0);"
      ]
    }
  ],
  "metadata": {
    "colab": {
      "collapsed_sections": [],
      "name": "retention_rate_answers.ipynb",
      "provenance": []
    },
    "kernelspec": {
      "display_name": "Python 3.9.12 ('base')",
      "language": "python",
      "name": "python3"
    },
    "language_info": {
      "codemirror_mode": {
        "name": "ipython",
        "version": 3
      },
      "file_extension": ".py",
      "mimetype": "text/x-python",
      "name": "python",
      "nbconvert_exporter": "python",
      "pygments_lexer": "ipython3",
      "version": "3.9.12"
    },
    "vscode": {
      "interpreter": {
        "hash": "39a820cb6228b99f37f39fbb649dd2b86436e0419dcc7c63f4704b792a5688ed"
      }
    }
  },
  "nbformat": 4,
  "nbformat_minor": 5
}
